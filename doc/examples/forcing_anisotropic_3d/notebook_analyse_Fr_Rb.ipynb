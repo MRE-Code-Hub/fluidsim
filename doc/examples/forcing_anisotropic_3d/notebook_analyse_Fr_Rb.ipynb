{
 "cells": [
  {
   "cell_type": "markdown",
   "id": "7c6ce4b5-66e2-4d2c-ab81-cd87dbe11c12",
   "metadata": {},
   "source": [
    "# Analyse the simulations of the ns3d.strat solver\n",
    "\n",
    "Control parameters (see Pierre's notes):\n",
    "* Froude number:\n",
    "  \\begin{equation}\n",
    "  F_h = \\frac{\\epsilon}{N U^2}\n",
    "  \\end{equation}\n",
    "* Reynolds number:\n",
    "  \\begin{equation}\n",
    "  Re = \\frac{U L_h}{\\nu}\n",
    "  \\end{equation}\n",
    "* Buoyancy Reynolds number\n",
    "  \\begin{equation}\n",
    "  \\mathcal{R} = Re F_h^2 = \\frac{\\epsilon}{\\nu N^2}\n",
    "  \\end{equation}\n",
    "* When hyperviscosity of order $n$ is used, we can define hyperviscous Reynolds numbers as:\n",
    "  \\begin{equation}\n",
    "  Re_n = \\frac{U L_h^{n-1}}{\\nu_n}, ~~~~ \\text{and} ~~~~ \\mathcal{R}_n = Re_n F_h^n = \\frac{\\varepsilon}{U^{n-2}}{\\nu_n N^n}\n",
    "  \\end{equation}\n",
    "* Projection:\n",
    "  `None` or `\"poloidal\"`\n",
    "\n",
    "\n",
    "## Select the parameters of the simulation:"
   ]
  },
  {
   "cell_type": "code",
   "execution_count": null,
   "id": "6419278f",
   "metadata": {},
   "outputs": [],
   "source": [
    "Fh=1./40.  # Froude number\n",
    "Rb=20  # Buoyancy Reynolds number\n",
    "proj=\"poloidal\"  # Projection"
   ]
  },
  {
   "cell_type": "markdown",
   "id": "39564ca8",
   "metadata": {},
   "source": [
    "## Check the environement (optional)"
   ]
  },
  {
   "cell_type": "code",
   "execution_count": null,
   "id": "c1abb0e0",
   "metadata": {},
   "outputs": [],
   "source": [
    "%%bash\n",
    "#echo $I_MPI_PMI_LIBRARY\n",
    "#module list\n",
    "#fluidsim-bench -h"
   ]
  },
  {
   "cell_type": "markdown",
   "id": "dc15918f",
   "metadata": {},
   "source": [
    "## Load the simulation"
   ]
  },
  {
   "cell_type": "code",
   "execution_count": null,
   "id": "63a2f957",
   "metadata": {},
   "outputs": [],
   "source": [
    "import os\n",
    "import glob\n",
    "from fluidsim import load\n",
    "simul_txt = f\"*polo_\"\n",
    "if proj==\"poloidal\":\n",
    "    simul_txt += \"proj_\"\n",
    "simul_txt += f\"Fh{Fh:.3e}_Rb{Rb:.3g}*\"\n",
    "#print(simul_txt)\n",
    "dir_path = \"/scratch/vlabarre/aniso/\"\n",
    "simul_path = glob.glob(dir_path + simul_txt + \"*\", recursive = False)\n",
    "#print(simul_path)\n",
    "sim = load(simul_path[-1])"
   ]
  },
  {
   "cell_type": "markdown",
   "id": "15a4fd8e",
   "metadata": {},
   "source": [
    "## Colormap of the buoyancy and spatial means"
   ]
  },
  {
   "cell_type": "code",
   "execution_count": null,
   "id": "9390ef5b-639b-4cc4-b323-79cc48ab7f73",
   "metadata": {},
   "outputs": [],
   "source": [
    "sim.output.phys_fields.set_equation_crosssection(\"x=1.5\")\n",
    "sim.output.phys_fields.plot(field=\"b\", QUIVER=False, time=4)\n",
    "sim.output.spatial_means.plot()\n",
    "sim.output.spatial_means.plot_dt_E()"
   ]
  },
  {
   "cell_type": "markdown",
   "id": "51fe1e62",
   "metadata": {},
   "source": [
    "## Check the quality of the simulation\n",
    "\n",
    "You can fix `tmin` to the time at which the simulation has reached statistically steady state in order to compute different quantities:"
   ]
  },
  {
   "cell_type": "code",
   "execution_count": null,
   "id": "72374d3d",
   "metadata": {},
   "outputs": [],
   "source": [
    "tmin = 2.0\n",
    "sim.output.spatial_means.plot_dimless_numbers_versus_time(tmin=tmin)\n",
    "sim.output.spatial_means.get_dimless_numbers_averaged(tmin=tmin)"
   ]
  },
  {
   "cell_type": "markdown",
   "id": "39eca796",
   "metadata": {},
   "source": [
    "## Plot the spectras\n",
    "\n",
    "### 1d spatial spectras"
   ]
  },
  {
   "cell_type": "code",
   "execution_count": null,
   "id": "4639b986-7dd7-4a79-8368-0c95f48f1257",
   "metadata": {},
   "outputs": [],
   "source": [
    "sim.output.spectra.plot1d(tmin=tmin)"
   ]
  },
  {
   "cell_type": "markdown",
   "id": "742330fa",
   "metadata": {},
   "source": [
    "### Spatiotemporal spectras"
   ]
  },
  {
   "cell_type": "code",
   "execution_count": null,
   "id": "1461348f-b411-417d-857d-65020d93415c",
   "metadata": {},
   "outputs": [],
   "source": [
    "sim.output.spatiotemporal_spectra.plot_kzkhomega(equation=\"ikh=8\", tmin=tmin)\n",
    "sim.output.spatiotemporal_spectra.plot_kzkhomega(equation=\"ikz=8\", tmin=tmin)"
   ]
  },
  {
   "cell_type": "markdown",
   "id": "45add552",
   "metadata": {},
   "source": [
    "### Temporal spectra"
   ]
  },
  {
   "cell_type": "code",
   "execution_count": null,
   "id": "2cb260c5-3b56-41ff-96a8-17dd36e45db2",
   "metadata": {},
   "outputs": [],
   "source": [
    "sim.output.spatiotemporal_spectra.plot_temporal_spectra(tmin=tmin)"
   ]
  },
  {
   "cell_type": "markdown",
   "id": "19eea4c4",
   "metadata": {},
   "source": [
    "## Export in html format"
   ]
  },
  {
   "cell_type": "code",
   "execution_count": null,
   "id": "a2c22c2f-e21e-47f4-b787-8ae2cd58f574",
   "metadata": {},
   "outputs": [],
   "source": [
    "%%bash\n",
    "jupyter nbconvert Analyse_simulation_Fr_Rb.ipynb --to html"
   ]
  }
 ],
 "metadata": {
  "kernelspec": {
   "display_name": "env_fluidsim",
   "language": "python",
   "name": "env_fluidsim"
  },
  "language_info": {
   "codemirror_mode": {
    "name": "ipython",
    "version": 3
   },
   "file_extension": ".py",
   "mimetype": "text/x-python",
   "name": "python",
   "nbconvert_exporter": "python",
   "pygments_lexer": "ipython3",
   "version": "3.10.2"
  }
 },
 "nbformat": 4,
 "nbformat_minor": 5
}
